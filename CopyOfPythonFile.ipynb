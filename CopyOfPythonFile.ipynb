import numpy as np

a = 10
b = 30

m = a + b

m

